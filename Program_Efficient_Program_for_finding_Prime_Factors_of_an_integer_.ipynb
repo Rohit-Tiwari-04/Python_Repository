{
  "nbformat": 4,
  "nbformat_minor": 0,
  "metadata": {
    "colab": {
      "name": "Task 1_Program 3_ Efficient Program for finding Prime Factors of an integer .ipynb",
      "provenance": []
    },
    "kernelspec": {
      "name": "python3",
      "display_name": "Python 3"
    },
    "language_info": {
      "name": "python"
    }
  },
  "cells": [
    {
      "cell_type": "code",
      "metadata": {
        "colab": {
          "base_uri": "https://localhost:8080/"
        },
        "id": "c_qYHP6v-ZTc",
        "outputId": "077cf616-9fa8-449c-b73c-8d10f002a868"
      },
      "source": [
        "# Check if the number is divisible by the smallest prime number 2\n",
        "# Check if the number is divisible by the next prime number 3\n",
        "# Repeat steps  1-2 until the result of division is 1.\n",
        "\n",
        "def prime_fact(x):                                                  # Defining a function for finding prime factors of an integer x\n",
        "    prime_factors = []                                              # Creating a list for storing the prime factors\n",
        "    divisor = 2                                                     # Defining the variable divisor with the smallest prime number 2\n",
        "    while divisor <= x:\n",
        "        if x%divisor == 0:\n",
        "            prime_factors.append(divisor)\n",
        "            x = x/divisor \n",
        "        else:\n",
        "            divisor += 1 #divisor = divisor + 1                     # Incrementing the divisor by 1 because if a number is not divisible by 2, it won't be divisible by n*2\n",
        "    return prime_factors\n",
        "\n",
        "# Verifying the code by producing outputs of prime factors of some integers:\n",
        "\n",
        "print(prime_fact(630))\n",
        "print(prime_fact(13))\n",
        "print(prime_fact(250))\n"
      ],
      "execution_count": 9,
      "outputs": [
        {
          "output_type": "stream",
          "text": [
            "[2, 3, 3, 5, 7]\n",
            "[13]\n",
            "[2, 5, 5, 5]\n"
          ],
          "name": "stdout"
        }
      ]
    }
  ]
}