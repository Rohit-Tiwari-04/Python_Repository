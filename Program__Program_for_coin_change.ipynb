{
  "nbformat": 4,
  "nbformat_minor": 0,
  "metadata": {
    "colab": {
      "name": "Task 1 Program 4_ Program for coin change.ipynb",
      "provenance": []
    },
    "kernelspec": {
      "name": "python3",
      "display_name": "Python 3"
    },
    "language_info": {
      "name": "python"
    }
  },
  "cells": [
    {
      "cell_type": "code",
      "metadata": {
        "colab": {
          "base_uri": "https://localhost:8080/"
        },
        "id": "FVkGpdI3F6kA",
        "outputId": "f18ae14c-42a0-48cd-f2c2-57b7fab7e157"
      },
      "source": [
        "# Recursive Python3 program for\n",
        "# coin change problem.\n",
        " \n",
        "# Returns the count of ways we can sum\n",
        "# S[0...m-1] coins to get sum n\n",
        "def count(S, m, n ):\n",
        " \n",
        "    # If n is 0 then there is 1\n",
        "    # solution (do not include any coin)\n",
        "    if (n == 0):\n",
        "        return 1\n",
        " \n",
        "    # If n is less than 0 then no\n",
        "    # solution exists\n",
        "    if (n < 0):\n",
        "        return 0;\n",
        " \n",
        "    # If there are no coins and n\n",
        "    # is greater than 0, then no\n",
        "    # solution exist\n",
        "    if (m <=0 and n >= 1):\n",
        "        return 0\n",
        " \n",
        "    # count is sum of solutions (i)\n",
        "    # including S[m-1] (ii) excluding S[m-1]\n",
        "    return count( S, m - 1, n ) + count( S, m, n-S[m-1] );\n",
        " \n",
        "# Driver program to test above function\n",
        "arr = [1, 2, 3]\n",
        "m = len(arr)\n",
        "print(count(arr, m, 4))"
      ],
      "execution_count": 1,
      "outputs": [
        {
          "output_type": "stream",
          "text": [
            "4\n"
          ],
          "name": "stdout"
        }
      ]
    }
  ]
}